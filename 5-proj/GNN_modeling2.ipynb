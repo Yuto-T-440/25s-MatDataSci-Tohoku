{
  "cells": [
    {
      "cell_type": "markdown",
      "metadata": {
        "id": "view-in-github",
        "colab_type": "text"
      },
      "source": [
        "<a href=\"https://colab.research.google.com/github/Yuto-T-440/25s-MatDataSci-Tohoku/blob/main/GNN_modeling2.ipynb\" target=\"_parent\"><img src=\"https://colab.research.google.com/assets/colab-badge.svg\" alt=\"Open In Colab\"/></a>"
      ]
    },
    {
      "cell_type": "code",
      "execution_count": null,
      "metadata": {
        "colab": {
          "base_uri": "https://localhost:8080/"
        },
        "id": "0L3jIMgDdd-4",
        "outputId": "cc1b963d-46f7-413c-82c3-3a558e107c44"
      },
      "outputs": [
        {
          "name": "stdout",
          "output_type": "stream",
          "text": [
            "Drive already mounted at /content/drive; to attempt to forcibly remount, call drive.mount(\"/content/drive\", force_remount=True).\n"
          ]
        }
      ],
      "source": [
        "from google.colab import drive\n",
        "drive.mount('/content/drive')"
      ]
    },
    {
      "cell_type": "code",
      "execution_count": null,
      "metadata": {
        "colab": {
          "base_uri": "https://localhost:8080/"
        },
        "collapsed": true,
        "id": "hEQu1CCYeOYg",
        "outputId": "56cf6ea6-2cec-4d1c-be10-32836a6f9fde"
      },
      "outputs": [
        {
          "name": "stdout",
          "output_type": "stream",
          "text": [
            "Requirement already satisfied: torch in /usr/local/lib/python3.11/dist-packages (2.6.0+cu124)\n",
            "Requirement already satisfied: torchvision in /usr/local/lib/python3.11/dist-packages (0.21.0+cu124)\n",
            "Requirement already satisfied: torchaudio in /usr/local/lib/python3.11/dist-packages (2.6.0+cu124)\n",
            "Requirement already satisfied: filelock in /usr/local/lib/python3.11/dist-packages (from torch) (3.18.0)\n",
            "Requirement already satisfied: typing-extensions>=4.10.0 in /usr/local/lib/python3.11/dist-packages (from torch) (4.13.2)\n",
            "Requirement already satisfied: networkx in /usr/local/lib/python3.11/dist-packages (from torch) (3.4.2)\n",
            "Requirement already satisfied: jinja2 in /usr/local/lib/python3.11/dist-packages (from torch) (3.1.6)\n",
            "Requirement already satisfied: fsspec in /usr/local/lib/python3.11/dist-packages (from torch) (2025.3.2)\n",
            "Requirement already satisfied: nvidia-cuda-nvrtc-cu12==12.4.127 in /usr/local/lib/python3.11/dist-packages (from torch) (12.4.127)\n",
            "Requirement already satisfied: nvidia-cuda-runtime-cu12==12.4.127 in /usr/local/lib/python3.11/dist-packages (from torch) (12.4.127)\n",
            "Requirement already satisfied: nvidia-cuda-cupti-cu12==12.4.127 in /usr/local/lib/python3.11/dist-packages (from torch) (12.4.127)\n",
            "Requirement already satisfied: nvidia-cudnn-cu12==9.1.0.70 in /usr/local/lib/python3.11/dist-packages (from torch) (9.1.0.70)\n",
            "Requirement already satisfied: nvidia-cublas-cu12==12.4.5.8 in /usr/local/lib/python3.11/dist-packages (from torch) (12.4.5.8)\n",
            "Requirement already satisfied: nvidia-cufft-cu12==11.2.1.3 in /usr/local/lib/python3.11/dist-packages (from torch) (11.2.1.3)\n",
            "Requirement already satisfied: nvidia-curand-cu12==10.3.5.147 in /usr/local/lib/python3.11/dist-packages (from torch) (10.3.5.147)\n",
            "Requirement already satisfied: nvidia-cusolver-cu12==11.6.1.9 in /usr/local/lib/python3.11/dist-packages (from torch) (11.6.1.9)\n",
            "Requirement already satisfied: nvidia-cusparse-cu12==12.3.1.170 in /usr/local/lib/python3.11/dist-packages (from torch) (12.3.1.170)\n",
            "Requirement already satisfied: nvidia-cusparselt-cu12==0.6.2 in /usr/local/lib/python3.11/dist-packages (from torch) (0.6.2)\n",
            "Requirement already satisfied: nvidia-nccl-cu12==2.21.5 in /usr/local/lib/python3.11/dist-packages (from torch) (2.21.5)\n",
            "Requirement already satisfied: nvidia-nvtx-cu12==12.4.127 in /usr/local/lib/python3.11/dist-packages (from torch) (12.4.127)\n",
            "Requirement already satisfied: nvidia-nvjitlink-cu12==12.4.127 in /usr/local/lib/python3.11/dist-packages (from torch) (12.4.127)\n",
            "Requirement already satisfied: triton==3.2.0 in /usr/local/lib/python3.11/dist-packages (from torch) (3.2.0)\n",
            "Requirement already satisfied: sympy==1.13.1 in /usr/local/lib/python3.11/dist-packages (from torch) (1.13.1)\n",
            "Requirement already satisfied: mpmath<1.4,>=1.1.0 in /usr/local/lib/python3.11/dist-packages (from sympy==1.13.1->torch) (1.3.0)\n",
            "Requirement already satisfied: numpy in /usr/local/lib/python3.11/dist-packages (from torchvision) (2.0.2)\n",
            "Requirement already satisfied: pillow!=8.3.*,>=5.3.0 in /usr/local/lib/python3.11/dist-packages (from torchvision) (11.2.1)\n",
            "Requirement already satisfied: MarkupSafe>=2.0 in /usr/local/lib/python3.11/dist-packages (from jinja2->torch) (3.0.2)\n",
            "Requirement already satisfied: torch-geometric in /usr/local/lib/python3.11/dist-packages (2.6.1)\n",
            "Requirement already satisfied: aiohttp in /usr/local/lib/python3.11/dist-packages (from torch-geometric) (3.11.15)\n",
            "Requirement already satisfied: fsspec in /usr/local/lib/python3.11/dist-packages (from torch-geometric) (2025.3.2)\n",
            "Requirement already satisfied: jinja2 in /usr/local/lib/python3.11/dist-packages (from torch-geometric) (3.1.6)\n",
            "Requirement already satisfied: numpy in /usr/local/lib/python3.11/dist-packages (from torch-geometric) (2.0.2)\n",
            "Requirement already satisfied: psutil>=5.8.0 in /usr/local/lib/python3.11/dist-packages (from torch-geometric) (5.9.5)\n",
            "Requirement already satisfied: pyparsing in /usr/local/lib/python3.11/dist-packages (from torch-geometric) (3.2.3)\n",
            "Requirement already satisfied: requests in /usr/local/lib/python3.11/dist-packages (from torch-geometric) (2.32.3)\n",
            "Requirement already satisfied: tqdm in /usr/local/lib/python3.11/dist-packages (from torch-geometric) (4.67.1)\n",
            "Requirement already satisfied: aiohappyeyeballs>=2.3.0 in /usr/local/lib/python3.11/dist-packages (from aiohttp->torch-geometric) (2.6.1)\n",
            "Requirement already satisfied: aiosignal>=1.1.2 in /usr/local/lib/python3.11/dist-packages (from aiohttp->torch-geometric) (1.3.2)\n",
            "Requirement already satisfied: attrs>=17.3.0 in /usr/local/lib/python3.11/dist-packages (from aiohttp->torch-geometric) (25.3.0)\n",
            "Requirement already satisfied: frozenlist>=1.1.1 in /usr/local/lib/python3.11/dist-packages (from aiohttp->torch-geometric) (1.6.0)\n",
            "Requirement already satisfied: multidict<7.0,>=4.5 in /usr/local/lib/python3.11/dist-packages (from aiohttp->torch-geometric) (6.4.3)\n",
            "Requirement already satisfied: propcache>=0.2.0 in /usr/local/lib/python3.11/dist-packages (from aiohttp->torch-geometric) (0.3.1)\n",
            "Requirement already satisfied: yarl<2.0,>=1.17.0 in /usr/local/lib/python3.11/dist-packages (from aiohttp->torch-geometric) (1.20.0)\n",
            "Requirement already satisfied: MarkupSafe>=2.0 in /usr/local/lib/python3.11/dist-packages (from jinja2->torch-geometric) (3.0.2)\n",
            "Requirement already satisfied: charset-normalizer<4,>=2 in /usr/local/lib/python3.11/dist-packages (from requests->torch-geometric) (3.4.2)\n",
            "Requirement already satisfied: idna<4,>=2.5 in /usr/local/lib/python3.11/dist-packages (from requests->torch-geometric) (3.10)\n",
            "Requirement already satisfied: urllib3<3,>=1.21.1 in /usr/local/lib/python3.11/dist-packages (from requests->torch-geometric) (2.4.0)\n",
            "Requirement already satisfied: certifi>=2017.4.17 in /usr/local/lib/python3.11/dist-packages (from requests->torch-geometric) (2025.4.26)\n",
            "Requirement already satisfied: rdkit-pypi in /usr/local/lib/python3.11/dist-packages (2022.9.5)\n",
            "Requirement already satisfied: numpy in /usr/local/lib/python3.11/dist-packages (from rdkit-pypi) (2.0.2)\n",
            "Requirement already satisfied: Pillow in /usr/local/lib/python3.11/dist-packages (from rdkit-pypi) (11.2.1)\n"
          ]
        }
      ],
      "source": [
        "!pip install torch torchvision torchaudio\n",
        "!pip install torch-geometric\n",
        "!pip install rdkit-pypi"
      ]
    },
    {
      "cell_type": "code",
      "execution_count": null,
      "metadata": {
        "id": "eVYt35S3eTFI"
      },
      "outputs": [],
      "source": [
        "import torch.nn as nn\n",
        "import torch.nn.functional as F\n",
        "from torch_geometric.nn import GCNConv, global_mean_pool"
      ]
    },
    {
      "cell_type": "code",
      "execution_count": null,
      "metadata": {
        "id": "HTEEafOXey6R"
      },
      "outputs": [],
      "source": [
        "import pandas as pd\n",
        "import seaborn as sns\n",
        "import matplotlib.pyplot as plt\n",
        "import numpy as np\n",
        "import torch\n",
        "import torch.nn as nn\n",
        "import torch.nn.functional as F"
      ]
    },
    {
      "cell_type": "code",
      "execution_count": null,
      "metadata": {
        "id": "SzkQNMr2drRW"
      },
      "outputs": [],
      "source": [
        "import numpy as np\n",
        "from torch_geometric.data import Data\n",
        "from torch_geometric.nn import radius_graph\n",
        "from torch_geometric.loader import DataLoader\n",
        "from torch_geometric.nn import GCNConv, global_mean_pool\n",
        "from torch.optim import Adam\n",
        "import torch\n",
        "import torch.nn.functional as F\n",
        "from torch.nn import Linear, Module\n",
        "from sklearn.preprocessing import StandardScaler"
      ]
    },
    {
      "cell_type": "code",
      "execution_count": null,
      "metadata": {
        "id": "Af2-230einUF"
      },
      "outputs": [],
      "source": [
        "def build_graph(Z, R, y):\n",
        "    x = torch.tensor(Z, dtype=torch.float).reshape(-1, 1)\n",
        "    pos = torch.tensor(R, dtype=torch.float)\n",
        "\n",
        "    y = torch.tensor(y, dtype=torch.float).reshape(1, -1)  # ✅ fix: ensures [1, 6] shape\n",
        "\n",
        "    edge_index = radius_graph(pos, r=5.0, loop=False)\n",
        "    return Data(x=x, pos=pos, edge_index=edge_index, y=y)"
      ]
    },
    {
      "cell_type": "code",
      "execution_count": null,
      "metadata": {
        "id": "K7jkFp9zdrhS"
      },
      "outputs": [],
      "source": [
        "# Load the .npz file\n",
        "data = np.load('/content/drive/MyDrive/InformationTechnologyFundamental/DFT_all.npz',allow_pickle=True)"
      ]
    },
    {
      "cell_type": "code",
      "execution_count": null,
      "metadata": {
        "id": "ki6BDIFodsKt"
      },
      "outputs": [],
      "source": [
        "epoch_max = 50 #Number of epochs we train the network"
      ]
    },
    {
      "cell_type": "code",
      "execution_count": null,
      "metadata": {
        "id": "SBjTWB6EgPnQ"
      },
      "outputs": [],
      "source": [
        "# Initialize lists to store metrics for plotting\n",
        "train_losses, val_losses, val_mae_totals, val_mae_per_target = [], [], [], []\n",
        "\n",
        "Zs = data['atoms']             # atomic numbers (per molecule)\n",
        "Rs = data['coordinates']       # 3D positions (per molecule)"
      ]
    },
    {
      "cell_type": "code",
      "execution_count": null,
      "metadata": {
        "id": "EKDiQ49QgP0r"
      },
      "outputs": [],
      "source": [
        "# Extract dipole components\n",
        "dipoles = data['dipole']\n",
        "dipole_x = np.array([d[0] for d in dipoles])\n",
        "dipole_y = np.array([d[1] for d in dipoles])\n",
        "dipole_z = np.array([d[2] for d in dipoles])\n",
        "\n",
        "# Define targets\n",
        "targets = ['U0', 'gap', 'H']\n",
        "Y_all = np.column_stack([\n",
        "    data['U0'], data['gap'], data['H'],\n",
        "    dipole_x, dipole_y, dipole_z\n",
        "])\n",
        "scaler = StandardScaler()\n",
        "Y_scaled = scaler.fit_transform(Y_all)\n",
        "Ys = list(Y_scaled)"
      ]
    },
    {
      "cell_type": "code",
      "execution_count": null,
      "metadata": {
        "id": "bRqbl9u-gP_a"
      },
      "outputs": [],
      "source": [
        "# 🔽 NEW: Split the data into train/val/test\n",
        "from sklearn.model_selection import train_test_split\n",
        "\n",
        "Z_train, Z_temp, R_train, R_temp, Y_train, Y_temp = train_test_split(Zs, Rs, Ys, test_size=0.2, random_state=42)\n",
        "Z_val, Z_test, R_val, R_test, Y_val, Y_test = train_test_split(Z_temp, R_temp, Y_temp, test_size=0.5, random_state=42)"
      ]
    },
    {
      "cell_type": "code",
      "execution_count": null,
      "metadata": {
        "colab": {
          "base_uri": "https://localhost:8080/"
        },
        "collapsed": true,
        "id": "jYyjcs9ujsSh",
        "outputId": "fbda064f-8ee2-4f83-aae5-2fd7b1d870d1"
      },
      "outputs": [
        {
          "name": "stdout",
          "output_type": "stream",
          "text": [
            "Looking in links: https://data.pyg.org/whl/torch-2.6.0+cu124.html\n",
            "Requirement already satisfied: torch-scatter in /usr/local/lib/python3.11/dist-packages (2.1.2+pt26cu124)\n",
            "Requirement already satisfied: torch-sparse in /usr/local/lib/python3.11/dist-packages (0.6.18+pt26cu124)\n",
            "Requirement already satisfied: torch-cluster in /usr/local/lib/python3.11/dist-packages (1.6.3+pt26cu124)\n",
            "Requirement already satisfied: torch-spline-conv in /usr/local/lib/python3.11/dist-packages (1.2.2+pt26cu124)\n",
            "Requirement already satisfied: torch-geometric in /usr/local/lib/python3.11/dist-packages (2.6.1)\n",
            "Requirement already satisfied: scipy in /usr/local/lib/python3.11/dist-packages (from torch-sparse) (1.15.3)\n",
            "Requirement already satisfied: aiohttp in /usr/local/lib/python3.11/dist-packages (from torch-geometric) (3.11.15)\n",
            "Requirement already satisfied: fsspec in /usr/local/lib/python3.11/dist-packages (from torch-geometric) (2025.3.2)\n",
            "Requirement already satisfied: jinja2 in /usr/local/lib/python3.11/dist-packages (from torch-geometric) (3.1.6)\n",
            "Requirement already satisfied: numpy in /usr/local/lib/python3.11/dist-packages (from torch-geometric) (2.0.2)\n",
            "Requirement already satisfied: psutil>=5.8.0 in /usr/local/lib/python3.11/dist-packages (from torch-geometric) (5.9.5)\n",
            "Requirement already satisfied: pyparsing in /usr/local/lib/python3.11/dist-packages (from torch-geometric) (3.2.3)\n",
            "Requirement already satisfied: requests in /usr/local/lib/python3.11/dist-packages (from torch-geometric) (2.32.3)\n",
            "Requirement already satisfied: tqdm in /usr/local/lib/python3.11/dist-packages (from torch-geometric) (4.67.1)\n",
            "Requirement already satisfied: aiohappyeyeballs>=2.3.0 in /usr/local/lib/python3.11/dist-packages (from aiohttp->torch-geometric) (2.6.1)\n",
            "Requirement already satisfied: aiosignal>=1.1.2 in /usr/local/lib/python3.11/dist-packages (from aiohttp->torch-geometric) (1.3.2)\n",
            "Requirement already satisfied: attrs>=17.3.0 in /usr/local/lib/python3.11/dist-packages (from aiohttp->torch-geometric) (25.3.0)\n",
            "Requirement already satisfied: frozenlist>=1.1.1 in /usr/local/lib/python3.11/dist-packages (from aiohttp->torch-geometric) (1.6.0)\n",
            "Requirement already satisfied: multidict<7.0,>=4.5 in /usr/local/lib/python3.11/dist-packages (from aiohttp->torch-geometric) (6.4.3)\n",
            "Requirement already satisfied: propcache>=0.2.0 in /usr/local/lib/python3.11/dist-packages (from aiohttp->torch-geometric) (0.3.1)\n",
            "Requirement already satisfied: yarl<2.0,>=1.17.0 in /usr/local/lib/python3.11/dist-packages (from aiohttp->torch-geometric) (1.20.0)\n",
            "Requirement already satisfied: MarkupSafe>=2.0 in /usr/local/lib/python3.11/dist-packages (from jinja2->torch-geometric) (3.0.2)\n",
            "Requirement already satisfied: charset-normalizer<4,>=2 in /usr/local/lib/python3.11/dist-packages (from requests->torch-geometric) (3.4.2)\n",
            "Requirement already satisfied: idna<4,>=2.5 in /usr/local/lib/python3.11/dist-packages (from requests->torch-geometric) (3.10)\n",
            "Requirement already satisfied: urllib3<3,>=1.21.1 in /usr/local/lib/python3.11/dist-packages (from requests->torch-geometric) (2.4.0)\n",
            "Requirement already satisfied: certifi>=2017.4.17 in /usr/local/lib/python3.11/dist-packages (from requests->torch-geometric) (2025.4.26)\n"
          ]
        }
      ],
      "source": [
        "# PyTorch Geometric & 依存ライブラリのインストール（torch-cluster含む）\n",
        "!pip install torch-scatter torch-sparse torch-cluster torch-spline-conv torch-geometric \\\n",
        "  -f https://data.pyg.org/whl/torch-2.6.0+cu124.html"
      ]
    },
    {
      "cell_type": "code",
      "execution_count": null,
      "metadata": {
        "id": "gVgVIcBrjie9"
      },
      "outputs": [],
      "source": [
        "from torch_cluster import radius_graph, knn_graph"
      ]
    },
    {
      "cell_type": "code",
      "execution_count": null,
      "metadata": {
        "id": "NTzX__x2gQKA"
      },
      "outputs": [],
      "source": [
        "# 🔽 Build separate datasets\n",
        "train_dataset = [build_graph(z, r, y) for z, r, y in zip(Z_train, R_train, Y_train)]\n",
        "val_dataset   = [build_graph(z, r, y) for z, r, y in zip(Z_val, R_val, Y_val)]\n",
        "test_dataset  = [build_graph(z, r, y) for z, r, y in zip(Z_test, R_test, Y_test)]"
      ]
    },
    {
      "cell_type": "code",
      "execution_count": null,
      "metadata": {
        "id": "1bPMpJUxgQTo"
      },
      "outputs": [],
      "source": [
        "# 🔽 Use separate data loaders\n",
        "train_loader = DataLoader(train_dataset, batch_size=32, shuffle=True)\n",
        "val_loader   = DataLoader(val_dataset, batch_size=32, shuffle=False)\n",
        "test_loader  = DataLoader(test_dataset, batch_size=32, shuffle=False)"
      ]
    },
    {
      "cell_type": "code",
      "execution_count": null,
      "metadata": {
        "id": "n-rJS4MjgQll"
      },
      "outputs": [],
      "source": [
        "dataset = [build_graph(z, r, y) for z, r, y in zip(Zs, Rs, Ys)]\n",
        "loader = DataLoader(dataset, batch_size=32, shuffle=True)"
      ]
    },
    {
      "cell_type": "code",
      "execution_count": null,
      "metadata": {
        "id": "zvHs3XmEj8ne"
      },
      "outputs": [],
      "source": [
        "class GNNModel(Module):\n",
        "    def __init__(self, hidden_dim=64, output_dim=6):\n",
        "        super().__init__()\n",
        "        self.conv1 = GCNConv(1, hidden_dim)  # input: atomic number\n",
        "        self.conv2 = GCNConv(hidden_dim, hidden_dim)\n",
        "        self.lin1 = Linear(hidden_dim, hidden_dim)\n",
        "        self.lin2 = Linear(hidden_dim, output_dim)\n",
        "\n",
        "    def forward(self, data):\n",
        "        x, edge_index, batch = data.x, data.edge_index, data.batch\n",
        "        x = F.relu(self.conv1(x, edge_index))\n",
        "        x = F.relu(self.conv2(x, edge_index))\n",
        "        x = global_mean_pool(x, batch)       # Global graph representation\n",
        "        x = F.relu(self.lin1(x))\n",
        "        out = self.lin2(x)                   # Multi-target output\n",
        "        return out"
      ]
    },
    {
      "cell_type": "code",
      "execution_count": null,
      "metadata": {
        "id": "-4nviCUtnV9s"
      },
      "outputs": [],
      "source": [
        "from sklearn.metrics import mean_absolute_error"
      ]
    },
    {
      "cell_type": "code",
      "execution_count": null,
      "metadata": {
        "id": "vB_g5ig0QJb-"
      },
      "outputs": [],
      "source": [
        "import os\n",
        "\n",
        "# フォルダがなければ作成\n",
        "os.makedirs(\"saves\", exist_ok=True)"
      ]
    },
    {
      "cell_type": "code",
      "execution_count": null,
      "metadata": {
        "colab": {
          "background_save": true,
          "base_uri": "https://localhost:8080/"
        },
        "id": "8sQk5EPEj80Y",
        "outputId": "797da39a-50cb-4132-fa4f-ce7469c82dc4"
      },
      "outputs": [
        {
          "name": "stdout",
          "output_type": "stream",
          "text": [
            "Epoch 01 | Train Loss: 0.7756 | Val Loss: 0.7740 | Val MAE (total): 126.8535\n",
            "  MAE per target: U0: 379.0259 | gap: 0.0394 | H: 378.7517 | dip_x: 1.4134 | dip_y: 1.0780 | dip_z: 0.8089\n",
            "Epoch 02 | Train Loss: 0.7450 | Val Loss: 0.7358 | Val MAE (total): 107.8821\n",
            "  MAE per target: U0: 322.0344 | gap: 0.0386 | H: 321.9182 | dip_x: 1.4109 | dip_y: 1.0780 | dip_z: 0.8069\n",
            "Epoch 03 | Train Loss: 0.7301 | Val Loss: 0.7334 | Val MAE (total): 108.6703\n",
            "  MAE per target: U0: 324.5230 | gap: 0.0384 | H: 324.1676 | dip_x: 1.4099 | dip_y: 1.0780 | dip_z: 0.8077\n",
            "Epoch 04 | Train Loss: 0.7234 | Val Loss: 0.7258 | Val MAE (total): 101.7161\n",
            "  MAE per target: U0: 303.4839 | gap: 0.0382 | H: 303.4827 | dip_x: 1.4111 | dip_y: 1.0785 | dip_z: 0.8075\n",
            "Epoch 05 | Train Loss: 0.7206 | Val Loss: 0.7233 | Val MAE (total): 100.9357\n",
            "  MAE per target: U0: 301.1976 | gap: 0.0383 | H: 301.0880 | dip_x: 1.4091 | dip_y: 1.0786 | dip_z: 0.8068\n",
            "Epoch 06 | Train Loss: 0.7192 | Val Loss: 0.7199 | Val MAE (total): 100.2404\n",
            "  MAE per target: U0: 299.1616 | gap: 0.0379 | H: 298.9552 | dip_x: 1.4081 | dip_y: 1.0779 | dip_z: 0.8071\n",
            "Epoch 07 | Train Loss: 0.7172 | Val Loss: 0.7203 | Val MAE (total): 100.2109\n",
            "  MAE per target: U0: 298.9356 | gap: 0.0380 | H: 299.0031 | dip_x: 1.4089 | dip_y: 1.0777 | dip_z: 0.8076\n",
            "Epoch 08 | Train Loss: 0.7153 | Val Loss: 0.7178 | Val MAE (total): 100.2957\n",
            "  MAE per target: U0: 299.2784 | gap: 0.0377 | H: 299.1652 | dip_x: 1.4096 | dip_y: 1.0778 | dip_z: 0.8076\n",
            "Epoch 09 | Train Loss: 0.7140 | Val Loss: 0.7144 | Val MAE (total): 96.6967\n",
            "  MAE per target: U0: 288.5018 | gap: 0.0375 | H: 288.3465 | dip_x: 1.4084 | dip_y: 1.0784 | dip_z: 0.8083\n",
            "Epoch 10 | Train Loss: 0.7128 | Val Loss: 0.7205 | Val MAE (total): 99.6106\n",
            "  MAE per target: U0: 297.1497 | gap: 0.0380 | H: 297.1826 | dip_x: 1.4097 | dip_y: 1.0778 | dip_z: 0.8073\n",
            "Epoch 11 | Train Loss: 0.7121 | Val Loss: 0.7176 | Val MAE (total): 99.4324\n",
            "  MAE per target: U0: 296.6768 | gap: 0.0383 | H: 296.5880 | dip_x: 1.4071 | dip_y: 1.0778 | dip_z: 0.8086\n",
            "Epoch 12 | Train Loss: 0.7115 | Val Loss: 0.7150 | Val MAE (total): 96.9377\n",
            "  MAE per target: U0: 289.1927 | gap: 0.0375 | H: 289.1060 | dip_x: 1.4074 | dip_y: 1.0776 | dip_z: 0.8070\n",
            "Epoch 13 | Train Loss: 0.7111 | Val Loss: 0.7132 | Val MAE (total): 96.4005\n",
            "  MAE per target: U0: 287.5631 | gap: 0.0374 | H: 287.5098 | dip_x: 1.4072 | dip_y: 1.0782 | dip_z: 0.8075\n",
            "Epoch 14 | Train Loss: 0.7107 | Val Loss: 0.7158 | Val MAE (total): 98.1345\n",
            "  MAE per target: U0: 292.7530 | gap: 0.0375 | H: 292.7260 | dip_x: 1.4081 | dip_y: 1.0778 | dip_z: 0.8073\n",
            "Epoch 15 | Train Loss: 0.7103 | Val Loss: 0.7172 | Val MAE (total): 103.2395\n",
            "  MAE per target: U0: 307.9769 | gap: 0.0381 | H: 308.1316 | dip_x: 1.4074 | dip_y: 1.0781 | dip_z: 0.8070\n",
            "Epoch 16 | Train Loss: 0.7099 | Val Loss: 0.7152 | Val MAE (total): 98.7759\n",
            "  MAE per target: U0: 294.6368 | gap: 0.0377 | H: 294.6888 | dip_x: 1.4077 | dip_y: 1.0779 | dip_z: 0.8072\n",
            "Epoch 17 | Train Loss: 0.7094 | Val Loss: 0.7135 | Val MAE (total): 96.7751\n",
            "  MAE per target: U0: 288.6756 | gap: 0.0373 | H: 288.6429 | dip_x: 1.4096 | dip_y: 1.0782 | dip_z: 0.8071\n",
            "Epoch 18 | Train Loss: 0.7090 | Val Loss: 0.7141 | Val MAE (total): 95.9074\n",
            "  MAE per target: U0: 286.0738 | gap: 0.0377 | H: 286.0408 | dip_x: 1.4078 | dip_y: 1.0779 | dip_z: 0.8072\n",
            "Epoch 19 | Train Loss: 0.7086 | Val Loss: 0.7103 | Val MAE (total): 96.5600\n",
            "  MAE per target: U0: 288.0302 | gap: 0.0374 | H: 287.9965 | dip_x: 1.4069 | dip_y: 1.0781 | dip_z: 0.8076\n",
            "Epoch 20 | Train Loss: 0.7082 | Val Loss: 0.7151 | Val MAE (total): 97.1898\n",
            "  MAE per target: U0: 289.9252 | gap: 0.0374 | H: 289.8906 | dip_x: 1.4061 | dip_y: 1.0778 | dip_z: 0.8085\n",
            "Epoch 21 | Train Loss: 0.7074 | Val Loss: 0.7090 | Val MAE (total): 95.9145\n",
            "  MAE per target: U0: 286.0800 | gap: 0.0371 | H: 286.0742 | dip_x: 1.4078 | dip_y: 1.0778 | dip_z: 0.8094\n",
            "Epoch 22 | Train Loss: 0.7070 | Val Loss: 0.7140 | Val MAE (total): 96.7466\n",
            "  MAE per target: U0: 288.5797 | gap: 0.0371 | H: 288.5657 | dip_x: 1.4084 | dip_y: 1.0780 | dip_z: 0.8071\n",
            "Epoch 23 | Train Loss: 0.7070 | Val Loss: 0.7110 | Val MAE (total): 95.9665\n",
            "  MAE per target: U0: 286.2405 | gap: 0.0371 | H: 286.2295 | dip_x: 1.4076 | dip_y: 1.0777 | dip_z: 0.8084\n",
            "Epoch 24 | Train Loss: 0.7063 | Val Loss: 0.7073 | Val MAE (total): 95.3286\n",
            "  MAE per target: U0: 284.3276 | gap: 0.0370 | H: 284.3099 | dip_x: 1.4069 | dip_y: 1.0787 | dip_z: 0.8072\n",
            "Epoch 25 | Train Loss: 0.7061 | Val Loss: 0.7080 | Val MAE (total): 94.5547\n",
            "  MAE per target: U0: 282.0044 | gap: 0.0371 | H: 281.9922 | dip_x: 1.4063 | dip_y: 1.0777 | dip_z: 0.8080\n",
            "Epoch 26 | Train Loss: 0.7059 | Val Loss: 0.7108 | Val MAE (total): 94.8033\n",
            "  MAE per target: U0: 282.7463 | gap: 0.0370 | H: 282.7419 | dip_x: 1.4084 | dip_y: 1.0783 | dip_z: 0.8075\n",
            "Epoch 27 | Train Loss: 0.7056 | Val Loss: 0.7093 | Val MAE (total): 96.1289\n",
            "  MAE per target: U0: 286.7250 | gap: 0.0371 | H: 286.7200 | dip_x: 1.4078 | dip_y: 1.0781 | dip_z: 0.8070\n",
            "Epoch 28 | Train Loss: 0.7053 | Val Loss: 0.7145 | Val MAE (total): 96.7749\n",
            "  MAE per target: U0: 288.6635 | gap: 0.0376 | H: 288.6585 | dip_x: 1.4082 | dip_y: 1.0781 | dip_z: 0.8080\n",
            "Epoch 29 | Train Loss: 0.7053 | Val Loss: 0.7083 | Val MAE (total): 93.5011\n",
            "  MAE per target: U0: 278.8388 | gap: 0.0370 | H: 278.8356 | dip_x: 1.4078 | dip_y: 1.0779 | dip_z: 0.8079\n",
            "Epoch 30 | Train Loss: 0.7049 | Val Loss: 0.7097 | Val MAE (total): 95.9469\n",
            "  MAE per target: U0: 286.1828 | gap: 0.0368 | H: 286.1806 | dip_x: 1.4065 | dip_y: 1.0784 | dip_z: 0.8073\n",
            "Epoch 31 | Train Loss: 0.7050 | Val Loss: 0.7087 | Val MAE (total): 95.2140\n",
            "  MAE per target: U0: 283.9802 | gap: 0.0369 | H: 283.9768 | dip_x: 1.4073 | dip_y: 1.0779 | dip_z: 0.8072\n",
            "Epoch 32 | Train Loss: 0.7048 | Val Loss: 0.7100 | Val MAE (total): 96.4188\n",
            "  MAE per target: U0: 287.5920 | gap: 0.0370 | H: 287.5900 | dip_x: 1.4078 | dip_y: 1.0794 | dip_z: 0.8068\n",
            "Epoch 33 | Train Loss: 0.7045 | Val Loss: 0.7078 | Val MAE (total): 94.8160\n",
            "  MAE per target: U0: 282.7868 | gap: 0.0369 | H: 282.7855 | dip_x: 1.4069 | dip_y: 1.0782 | dip_z: 0.8076\n",
            "Epoch 34 | Train Loss: 0.7043 | Val Loss: 0.7077 | Val MAE (total): 94.1375\n",
            "  MAE per target: U0: 280.7499 | gap: 0.0371 | H: 280.7478 | dip_x: 1.4072 | dip_y: 1.0779 | dip_z: 0.8075\n",
            "Epoch 35 | Train Loss: 0.7042 | Val Loss: 0.7066 | Val MAE (total): 94.9274\n",
            "  MAE per target: U0: 283.1164 | gap: 0.0367 | H: 283.1145 | dip_x: 1.4065 | dip_y: 1.0788 | dip_z: 0.8077\n",
            "Epoch 36 | Train Loss: 0.7042 | Val Loss: 0.7073 | Val MAE (total): 95.6685\n",
            "  MAE per target: U0: 285.3391 | gap: 0.0367 | H: 285.3388 | dip_x: 1.4082 | dip_y: 1.0783 | dip_z: 0.8084\n",
            "Epoch 37 | Train Loss: 0.7038 | Val Loss: 0.7097 | Val MAE (total): 95.3653\n",
            "  MAE per target: U0: 284.4344 | gap: 0.0369 | H: 284.4333 | dip_x: 1.4065 | dip_y: 1.0778 | dip_z: 0.8071\n",
            "Epoch 38 | Train Loss: 0.7034 | Val Loss: 0.7077 | Val MAE (total): 95.1781\n",
            "  MAE per target: U0: 283.8687 | gap: 0.0374 | H: 283.8675 | dip_x: 1.4068 | dip_y: 1.0785 | dip_z: 0.8086\n",
            "Epoch 39 | Train Loss: 0.7034 | Val Loss: 0.7128 | Val MAE (total): 98.8793\n",
            "  MAE per target: U0: 294.9751 | gap: 0.0371 | H: 294.9743 | dip_x: 1.4056 | dip_y: 1.0776 | dip_z: 0.8069\n",
            "Epoch 40 | Train Loss: 0.7032 | Val Loss: 0.7057 | Val MAE (total): 95.6195\n",
            "  MAE per target: U0: 285.1940 | gap: 0.0366 | H: 285.1932 | dip_x: 1.4069 | dip_y: 1.0781 | dip_z: 0.8071\n",
            "Epoch 41 | Train Loss: 0.7028 | Val Loss: 0.7114 | Val MAE (total): 95.9735\n",
            "  MAE per target: U0: 286.2559 | gap: 0.0369 | H: 286.2555 | dip_x: 1.4072 | dip_y: 1.0783 | dip_z: 0.8076\n",
            "Epoch 42 | Train Loss: 0.7030 | Val Loss: 0.7041 | Val MAE (total): 94.1715\n",
            "  MAE per target: U0: 280.8505 | gap: 0.0368 | H: 280.8497 | dip_x: 1.4064 | dip_y: 1.0780 | dip_z: 0.8082\n",
            "Epoch 43 | Train Loss: 0.7028 | Val Loss: 0.7058 | Val MAE (total): 94.1218\n",
            "  MAE per target: U0: 280.7003 | gap: 0.0366 | H: 280.6991 | dip_x: 1.4075 | dip_y: 1.0782 | dip_z: 0.8075\n",
            "Epoch 44 | Train Loss: 0.7023 | Val Loss: 0.7084 | Val MAE (total): 94.6373\n",
            "  MAE per target: U0: 282.2461 | gap: 0.0369 | H: 282.2453 | dip_x: 1.4082 | dip_y: 1.0781 | dip_z: 0.8075\n",
            "Epoch 45 | Train Loss: 0.7023 | Val Loss: 0.7066 | Val MAE (total): 93.6572\n",
            "  MAE per target: U0: 279.3076 | gap: 0.0368 | H: 279.3068 | dip_x: 1.4074 | dip_y: 1.0779 | dip_z: 0.8077\n",
            "Epoch 46 | Train Loss: 0.7021 | Val Loss: 0.7045 | Val MAE (total): 92.9728\n",
            "  MAE per target: U0: 277.2555 | gap: 0.0365 | H: 277.2555 | dip_x: 1.4066 | dip_y: 1.0783 | dip_z: 0.8086\n",
            "Epoch 47 | Train Loss: 0.7022 | Val Loss: 0.7073 | Val MAE (total): 94.5620\n",
            "  MAE per target: U0: 282.0198 | gap: 0.0367 | H: 282.0188 | dip_x: 1.4070 | dip_y: 1.0786 | dip_z: 0.8090\n",
            "Epoch 48 | Train Loss: 0.7022 | Val Loss: 0.7087 | Val MAE (total): 97.0368\n",
            "  MAE per target: U0: 289.4454 | gap: 0.0368 | H: 289.4451 | dip_x: 1.4076 | dip_y: 1.0781 | dip_z: 0.8071\n",
            "Epoch 49 | Train Loss: 0.7018 | Val Loss: 0.7050 | Val MAE (total): 93.4156\n",
            "  MAE per target: U0: 278.5820 | gap: 0.0366 | H: 278.5818 | dip_x: 1.4068 | dip_y: 1.0781 | dip_z: 0.8078\n",
            "Epoch 50 | Train Loss: 0.7019 | Val Loss: 0.7043 | Val MAE (total): 92.8359\n",
            "  MAE per target: U0: 276.8411 | gap: 0.0366 | H: 276.8407 | dip_x: 1.4077 | dip_y: 1.0782 | dip_z: 0.8084\n"
          ]
        }
      ],
      "source": [
        "device = torch.device('cuda' if torch.cuda.is_available() else 'cpu')\n",
        "model = GNNModel().to(device)\n",
        "optimizer = Adam(model.parameters(), lr=0.001)\n",
        "loss_fn = torch.nn.MSELoss()\n",
        "\n",
        "for epoch in range(1, epoch_max+1):\n",
        "    model.train()\n",
        "    total_loss = 0\n",
        "    for batch in train_loader:\n",
        "        batch = batch.to(device)\n",
        "        pred = model(batch)\n",
        "        target = batch.y\n",
        "        loss = loss_fn(pred, target)\n",
        "        loss.backward()\n",
        "        optimizer.step()\n",
        "        optimizer.zero_grad()\n",
        "        total_loss += loss.item() * batch.num_graphs\n",
        "\n",
        "    avg_train_loss = total_loss / len(train_loader.dataset)\n",
        "    train_losses.append(avg_train_loss)\n",
        "\n",
        "    # ===== Validation starts here =====\n",
        "    model.eval()\n",
        "    val_loss = 0\n",
        "    val_preds, val_targets = [], []\n",
        "\n",
        "    with torch.no_grad():\n",
        "        for batch in val_loader:\n",
        "            batch = batch.to(device)\n",
        "            pred = model(batch)\n",
        "            target = batch.y\n",
        "            val_loss += loss_fn(pred, target).item() * batch.num_graphs\n",
        "\n",
        "            val_preds.append(pred.cpu().numpy())\n",
        "            val_targets.append(target.cpu().numpy())\n",
        "\n",
        "    avg_val_loss = val_loss / len(val_loader.dataset)\n",
        "    val_losses.append(avg_val_loss)\n",
        "\n",
        "    # ==== MAE (real units)\n",
        "    val_preds_real = scaler.inverse_transform(np.vstack(val_preds))\n",
        "    val_targets_real = scaler.inverse_transform(np.vstack(val_targets))\n",
        "\n",
        "    val_mae_real = mean_absolute_error(val_targets_real, val_preds_real)\n",
        "    val_mae_totals.append(val_mae_real)\n",
        "\n",
        "    # ==== Per-target MAEs\n",
        "    per_target_mae = []\n",
        "    for i in range(val_targets_real.shape[1]):\n",
        "        mae_i = mean_absolute_error(val_targets_real[:, i], val_preds_real[:, i])\n",
        "        per_target_mae.append(mae_i)\n",
        "\n",
        "    val_mae_per_target.append(per_target_mae)\n",
        "\n",
        "    # Format per-target MAEs for display\n",
        "    target_names = ['U0', 'gap', 'H', 'dip_x', 'dip_y', 'dip_z']\n",
        "    mae_str = \" | \".join([f\"{name}: {mae:.4f}\" for name, mae in zip(target_names, per_target_mae)])\n",
        "\n",
        "    print(f\"Epoch {epoch:02d} | Train Loss: {avg_train_loss:.4f} | Val Loss: {avg_val_loss:.4f} | Val MAE (total): {val_mae_real:.4f}\")\n",
        "    print(f\"  MAE per target: {mae_str}\")\n",
        "\n",
        "torch.save(model,\"saves/model.nn\")\n",
        "np.save(\"saves/val_mae_totals.npy\",val_mae_totals,allow_pickle = True)\n",
        "np.save(\"saves/val_mae_per_target.npy\",val_mae_per_target,allow_pickle = True)\n",
        "np.save(\"saves/val_losses.npy\",val_losses,allow_pickle = True)\n",
        "np.save(\"saves/train_losses.npy\",train_losses,allow_pickle = True)"
      ]
    }
  ],
  "metadata": {
    "colab": {
      "provenance": [],
      "authorship_tag": "ABX9TyMv7uSszWUl5bBwpGvRDW+d",
      "include_colab_link": true
    },
    "kernelspec": {
      "display_name": "Python 3",
      "name": "python3"
    },
    "language_info": {
      "name": "python"
    }
  },
  "nbformat": 4,
  "nbformat_minor": 0
}